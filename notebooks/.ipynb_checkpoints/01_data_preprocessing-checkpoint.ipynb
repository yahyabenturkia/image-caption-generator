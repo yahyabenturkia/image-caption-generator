{
 "cells": [
  {
   "cell_type": "code",
   "execution_count": null,
   "id": "7b7f27c0-b7bf-4041-a035-f3f981e72efc",
   "metadata": {},
   "outputs": [],
   "source": [
    "# Standard libraries\n",
    "import os\n",
    "from PIL import Image\n",
    "import matplotlib.pyplot as plt\n",
    "import sys\n",
    "\n",
    "# Add the src folder to Python path\n",
    "sys.path.append(\"../src\")\n",
    "\n",
    "# Path to your data folder\n",
    "DATA_DIR = \"../data\"\n"
   ]
  },
  {
   "cell_type": "code",
   "execution_count": null,
   "id": "8c31772c-c9e6-4c9b-a392-7e9451b20404",
   "metadata": {},
   "outputs": [],
   "source": [
    "# List all files in the data folder\n",
    "images = [f for f in os.listdir(DATA_DIR) if f.lower().endswith((\".jpg\", \".jpeg\", \".png\"))]\n",
    "print(f\"Found {len(images)} images:\")\n",
    "print(images)\n"
   ]
  },
  {
   "cell_type": "code",
   "execution_count": null,
   "id": "196fcd84-2ccd-418f-8fca-5cbe3eab13c6",
   "metadata": {},
   "outputs": [],
   "source": [
    "from preprocess import load_image  # no more 'src.' needed\n",
    "\n",
    "# Load first image as a test\n",
    "img_path = os.path.join(DATA_DIR, images[0])\n",
    "img = load_image(img_path)\n",
    "\n",
    "# Show the image\n",
    "plt.imshow(img)\n",
    "plt.axis('off')\n",
    "plt.show()\n"
   ]
  },
  {
   "cell_type": "code",
   "execution_count": null,
   "id": "ab93cfc1-cadc-4f91-bf16-cdc0e97bdde3",
   "metadata": {},
   "outputs": [],
   "source": [
    "# Loop through all images and show their sizes\n",
    "for img_file in images:\n",
    "    img_path = os.path.join(DATA_DIR, img_file)\n",
    "    img = load_image(img_path)\n",
    "    print(f\"{img_file}: size={img.size}, mode={img.mode}\")\n"
   ]
  }
 ],
 "metadata": {
  "kernelspec": {
   "display_name": "Python 3 (ipykernel)",
   "language": "python",
   "name": "python3"
  },
  "language_info": {
   "codemirror_mode": {
    "name": "ipython",
    "version": 3
   },
   "file_extension": ".py",
   "mimetype": "text/x-python",
   "name": "python",
   "nbconvert_exporter": "python",
   "pygments_lexer": "ipython3",
   "version": "3.10.18"
  }
 },
 "nbformat": 4,
 "nbformat_minor": 5
}
